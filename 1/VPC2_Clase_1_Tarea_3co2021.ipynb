{
  "nbformat": 4,
  "nbformat_minor": 0,
  "metadata": {
    "colab": {
      "name": "VPC2_Clase_1_Tarea_3co2021",
      "provenance": [],
      "collapsed_sections": []
    },
    "kernelspec": {
      "name": "python3",
      "display_name": "Python 3"
    },
    "language_info": {
      "name": "python"
    }
  },
  "cells": [
    {
      "cell_type": "markdown",
      "metadata": {
        "id": "AYCoB40rMezG"
      },
      "source": [
        "## Ejercicio 1: Completar la tabla\n",
        "Obtener las dimensiones de la activación y la cantidad de parámetros de cada una de las capas de una red convolucional modelo."
      ]
    },
    {
      "cell_type": "markdown",
      "metadata": {
        "id": "uvBqT547cpe7"
      },
      "source": [
        "### Fórmulas\n",
        "Cálculo de dimensiones de la salida:\n",
        "\n",
        "\n",
        "$$ Dims = (\\frac{n_h+2p-f}{s} + 1 , \\frac{n_w+2p-f}{s} + 1, n_c)$$\n",
        "\n",
        "\n",
        "Cálculo de parámetros por capa:\n",
        "\n",
        "$$ n_{params} = n_{f_{out}} . n_{h_{in}} . n_{w_{in}} . n_{d_{in}} + n_{f_{out}}$$\n"
      ]
    },
    {
      "cell_type": "code",
      "metadata": {
        "id": "WSHKerxjAf96"
      },
      "source": [
        "# Import the libraries\n",
        "import torch\n",
        "from torch import nn\n"
      ],
      "execution_count": 1,
      "outputs": []
    },
    {
      "cell_type": "code",
      "metadata": {
        "id": "omzHIswJRaEY"
      },
      "source": [
        "# Input values \n",
        "input = torch.randn(1, 3, 64, 64)"
      ],
      "execution_count": 2,
      "outputs": []
    },
    {
      "cell_type": "markdown",
      "metadata": {
        "id": "9qkgT9wQRW1C"
      },
      "source": [
        "#### Conv2D(f=5, s=2, c=8, p=2)"
      ]
    },
    {
      "cell_type": "code",
      "metadata": {
        "colab": {
          "base_uri": "https://localhost:8080/"
        },
        "id": "D0IQiVz7Ap9Y",
        "outputId": "b84e7449-8128-4d8f-b8e3-ed73d904a9b8"
      },
      "source": [
        "conv_1 = nn.Conv2d(in_channels=3, out_channels=8, kernel_size=5, stride=2, padding=2)\n",
        "out_conv_1 = conv_1(input)\n",
        "print(\"Size:\", out_conv_1.size())\n",
        "conv_1_total_params = sum(p.numel() for p in conv_1.parameters())\n",
        "print(\"Parameters:\", conv_1_total_params)\n"
      ],
      "execution_count": 3,
      "outputs": [
        {
          "output_type": "stream",
          "name": "stdout",
          "text": [
            "Size: torch.Size([1, 8, 32, 32])\n",
            "Parameters: 608\n"
          ]
        }
      ]
    },
    {
      "cell_type": "markdown",
      "metadata": {
        "id": "YHaTQw8FRcjY"
      },
      "source": [
        "#### Maxpool(f=2, s=2)"
      ]
    },
    {
      "cell_type": "code",
      "metadata": {
        "colab": {
          "base_uri": "https://localhost:8080/"
        },
        "id": "HmLrXtAND9g4",
        "outputId": "2f8d577e-fb51-42ae-8979-3fe846258362"
      },
      "source": [
        "# Maxpool(f=2, s=2)\n",
        "maxpool_1 = nn.MaxPool2d(kernel_size=2, stride=2)\n",
        "out_maxpool_1 = maxpool_1(out_conv_1)\n",
        "print(\"Size:\", out_maxpool_1.size())\n",
        "maxpool_1_total_params = sum(p.numel() for p in maxpool_1.parameters())\n",
        "print(\"Parameters:\", maxpool_1_total_params)"
      ],
      "execution_count": 4,
      "outputs": [
        {
          "output_type": "stream",
          "name": "stdout",
          "text": [
            "Size: torch.Size([1, 8, 16, 16])\n",
            "Parameters: 0\n"
          ]
        }
      ]
    },
    {
      "cell_type": "markdown",
      "metadata": {
        "id": "7USAqlyDRlSB"
      },
      "source": [
        "#### Conv2D(f=3, s=1, c=16, p=1)"
      ]
    },
    {
      "cell_type": "code",
      "metadata": {
        "colab": {
          "base_uri": "https://localhost:8080/"
        },
        "id": "y49tBbPm7xV6",
        "outputId": "30d3b5d5-f2c5-46ea-a554-9e509432e4ce"
      },
      "source": [
        "conv_2 = nn.Conv2d(in_channels=8, out_channels=16, kernel_size=3, stride=1, padding=1)\n",
        "out_conv_2 = conv_2(out_maxpool_1)\n",
        "print(\"Size:\", out_conv_2.size())\n",
        "conv_2_total_params = sum(p.numel() for p in conv_2.parameters())\n",
        "print(\"Parameters:\", conv_2_total_params)\n"
      ],
      "execution_count": 5,
      "outputs": [
        {
          "output_type": "stream",
          "name": "stdout",
          "text": [
            "Size: torch.Size([1, 16, 16, 16])\n",
            "Parameters: 1168\n"
          ]
        }
      ]
    },
    {
      "cell_type": "markdown",
      "metadata": {
        "id": "iD9iADWlRpMS"
      },
      "source": [
        "#### Maxpool(f=4, s=4)"
      ]
    },
    {
      "cell_type": "code",
      "metadata": {
        "colab": {
          "base_uri": "https://localhost:8080/"
        },
        "id": "vgGED3ARGhgo",
        "outputId": "393f2fd2-ddfc-4af7-f91f-6daf4dc718ac"
      },
      "source": [
        "# Maxpool(f=4, s=4)\n",
        "maxpool_2 = nn.MaxPool2d(kernel_size=4, stride=4)\n",
        "out_maxpool_2 = maxpool_2(out_conv_2)\n",
        "print(\"Size:\", out_maxpool_2.size())\n",
        "maxpool_2_total_params = sum(p.numel() for p in maxpool_2.parameters())\n",
        "print(\"Parameters:\", maxpool_2_total_params)"
      ],
      "execution_count": 6,
      "outputs": [
        {
          "output_type": "stream",
          "name": "stdout",
          "text": [
            "Size: torch.Size([1, 16, 4, 4])\n",
            "Parameters: 0\n"
          ]
        }
      ]
    },
    {
      "cell_type": "markdown",
      "metadata": {
        "id": "zLcDrihzRreo"
      },
      "source": [
        "#### Dense(salida=6)"
      ]
    },
    {
      "cell_type": "code",
      "metadata": {
        "colab": {
          "base_uri": "https://localhost:8080/"
        },
        "id": "CqwqVuhHHuZA",
        "outputId": "6681c3be-ba50-459f-a0e4-f1d75c65185d"
      },
      "source": [
        "# Dense(salida=6)\n",
        "linear = nn.Linear(in_features=16 * 4 * 4, out_features=6)\n",
        "out_linear = linear(out_maxpool_2.view(-1, 16 * 4 * 4))\n",
        "print(\"Size:\", out_linear.size())\n",
        "linear_total_params = sum(p.numel() for p in linear.parameters())\n",
        "print(\"Parameters:\", linear_total_params)\n"
      ],
      "execution_count": 7,
      "outputs": [
        {
          "output_type": "stream",
          "name": "stdout",
          "text": [
            "Size: torch.Size([1, 6])\n",
            "Parameters: 1542\n"
          ]
        }
      ]
    },
    {
      "cell_type": "markdown",
      "metadata": {
        "id": "uHjV75bUP1VQ"
      },
      "source": [
        "### Tabla"
      ]
    },
    {
      "cell_type": "markdown",
      "metadata": {
        "id": "Dcp45xlPM904"
      },
      "source": [
        "\n",
        "\n",
        "|       | Dimensiones de entrada | Cantidad de parámetros |\n",
        "| ----------- | ----------- | ----------- |\n",
        "| Entrada      | (3, 64, 64)       | 0       |\n",
        "| Conv2D(f=5, s=2, c=8, p=2)  | (8, 32, 32)        | 608        |\n",
        "| MaxPool(f=2, s=2)  | (8, 16, 16)        | 0        |\n",
        "| Conv2D(f=3, s=1, c=16, p=1)  | (16, 16, 16)        | 1168        |\n",
        "| MaxPool(f=4, s=4)  | (16, 4, 4)        | 0        |\n",
        "| Dense(salida=6)  | (6)        | 1542        | "
      ]
    },
    {
      "cell_type": "code",
      "metadata": {
        "id": "mDOpxvBqcPc2"
      },
      "source": [
        ""
      ],
      "execution_count": null,
      "outputs": []
    }
  ]
}